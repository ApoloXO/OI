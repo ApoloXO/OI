{
  "nbformat": 4,
  "nbformat_minor": 0,
  "metadata": {
    "colab": {
      "provenance": [],
      "authorship_tag": "ABX9TyPeJhLfUSQIvPOADZ2aHOqt",
      "include_colab_link": true
    },
    "kernelspec": {
      "name": "python3",
      "display_name": "Python 3"
    },
    "language_info": {
      "name": "python"
    }
  },
  "cells": [
    {
      "cell_type": "markdown",
      "metadata": {
        "id": "view-in-github",
        "colab_type": "text"
      },
      "source": [
        "<a href=\"https://colab.research.google.com/github/ApoloXO/OR/blob/main/ciw_tutorial.ipynb\" target=\"_parent\"><img src=\"https://colab.research.google.com/assets/colab-badge.svg\" alt=\"Open In Colab\"/></a>"
      ]
    },
    {
      "cell_type": "markdown",
      "source": [
        "# Python CIW Tutorial\n",
        "Carlos Alexander Grajales Correa \\\\\n",
        "Professor Universidad de Antioquia, Colombia \\\\\n",
        "alexander.grajales@udea.edu.co \\\\\n",
        "**Reference:** *https://ciw.readthedocs.io/en/latest/#*\n",
        "\n",
        "\\\\\n",
        "\n",
        "\n",
        "☝ Before start\n",
        "\n",
        "At Google Colab, for this course, you will first need to install\n",
        "\n",
        "* ciw\n",
        "___"
      ],
      "metadata": {
        "id": "c_LLcBzCkUIh"
      }
    },
    {
      "cell_type": "code",
      "source": [
        "!pip install ciw\n",
        "import ciw"
      ],
      "metadata": {
        "id": "W5pkNIAMH1Kd",
        "colab": {
          "base_uri": "https://localhost:8080/"
        },
        "outputId": "0d2efb04-8017-4794-abd6-91d7f7d5af9c"
      },
      "execution_count": null,
      "outputs": [
        {
          "output_type": "stream",
          "name": "stdout",
          "text": [
            "Requirement already satisfied: ciw in /usr/local/lib/python3.10/dist-packages (3.2.0)\n",
            "Requirement already satisfied: setuptools>=69 in /usr/local/lib/python3.10/dist-packages (from ciw) (69.5.1)\n",
            "Requirement already satisfied: networkx>=2.3 in /usr/local/lib/python3.10/dist-packages (from ciw) (3.3)\n",
            "Requirement already satisfied: tqdm>=4.64.0 in /usr/local/lib/python3.10/dist-packages (from ciw) (4.66.4)\n",
            "Requirement already satisfied: numpy>=1.21.6 in /usr/local/lib/python3.10/dist-packages (from ciw) (1.25.2)\n"
          ]
        }
      ]
    },
    {
      "cell_type": "markdown",
      "source": [
        "# CIW Tutorial I: Defining & Running a Simulation\n",
        "\n",
        "Assume you are a bank manager and would like to know how long customers wait in your bank. Customers arrive randomly, roughly 12 per hour, regardless of the time of day. Service time is random, but on average lasts roughly 10 minutes. The bank is open 24 hours a day, 7 days a week, and has three servers who are always on duty. If all servers are busy, newly arriving customers form a queue and wait for service. On average how long do customers wait?\n",
        "___"
      ],
      "metadata": {
        "id": "oc7Khq2z2gnS"
      }
    },
    {
      "cell_type": "markdown",
      "source": [
        "☝ Creation of Network and Simulation Object:"
      ],
      "metadata": {
        "id": "Z5BQ6zpOUGcX"
      }
    },
    {
      "cell_type": "code",
      "execution_count": null,
      "metadata": {
        "id": "jGlG0QK72fSW"
      },
      "outputs": [],
      "source": [
        "N = ciw.create_network(\n",
        "    arrival_distributions=[ciw.dists.Exponential(rate=0.2)], # la linea me indica: distr de llegada\n",
        "    service_distributions=[ciw.dists.Exponential(rate=0.1)],\n",
        "    number_of_servers=[3]\n",
        ")\n",
        "ciw.seed(1)\n",
        "Q = ciw.Simulation(N)\n",
        "Q.simulate_until_max_time(1440)\n"
      ]
    },
    {
      "cell_type": "markdown",
      "source": [
        "# Ciw Tutorial II: Exploring the Simulation Object"
      ],
      "metadata": {
        "id": "buxQ-OZi4tJI"
      }
    },
    {
      "cell_type": "markdown",
      "source": [
        "☝ Q Nodes:"
      ],
      "metadata": {
        "id": "PjYODpQo_nsv"
      }
    },
    {
      "cell_type": "code",
      "source": [
        "print(Q.nodes)\n",
        "print(Q.nodes[0])\n",
        "print(Q.nodes[1])\n",
        "print(Q.nodes[-1])"
      ],
      "metadata": {
        "colab": {
          "base_uri": "https://localhost:8080/"
        },
        "id": "fU6BDz863RQo",
        "outputId": "30fd809e-0984-4c64-bc06-489575426639"
      },
      "execution_count": null,
      "outputs": [
        {
          "output_type": "stream",
          "name": "stdout",
          "text": [
            "[Arrival Node, Node 1, Exit Node]\n",
            "Arrival Node\n",
            "Node 1\n",
            "Exit Node\n"
          ]
        }
      ]
    },
    {
      "cell_type": "markdown",
      "source": [
        "☝ Q Node 0:"
      ],
      "metadata": {
        "id": "18pnTA8MdI6H"
      }
    },
    {
      "cell_type": "code",
      "source": [
        "Q.nodes[0].number_of_individuals"
      ],
      "metadata": {
        "colab": {
          "base_uri": "https://localhost:8080/"
        },
        "id": "PbbEGZF7dNJ3",
        "outputId": "d86c3a12-4555-4933-cfb2-6586a18be37a"
      },
      "execution_count": null,
      "outputs": [
        {
          "output_type": "execute_result",
          "data": {
            "text/plain": [
              "307"
            ]
          },
          "metadata": {},
          "execution_count": 5
        }
      ]
    },
    {
      "cell_type": "markdown",
      "source": [
        "☝ Q Node -1:"
      ],
      "metadata": {
        "id": "D7rDLlTpAIAe"
      }
    },
    {
      "cell_type": "code",
      "source": [
        "print(len(Q.nodes[-1].all_individuals))\n",
        "print(Q.nodes[-1].all_individuals[0])\n",
        "print(Q.nodes[-1].all_individuals[-1])\n",
        "# Q.nodes[-1].all_individuals"
      ],
      "metadata": {
        "colab": {
          "base_uri": "https://localhost:8080/"
        },
        "id": "02gQ1qOj_inQ",
        "outputId": "a1ceb5b1-18cf-4618-cdf0-1a8819d104a4"
      },
      "execution_count": null,
      "outputs": [
        {
          "output_type": "stream",
          "name": "stdout",
          "text": [
            "304\n",
            "Individual 2\n",
            "Individual 300\n"
          ]
        }
      ]
    },
    {
      "cell_type": "markdown",
      "source": [
        "☝ Q Node 1:"
      ],
      "metadata": {
        "id": "0dtLDtEHATIA"
      }
    },
    {
      "cell_type": "code",
      "source": [
        "print(Q.nodes[1].all_individuals, '\\n')"
      ],
      "metadata": {
        "colab": {
          "base_uri": "https://localhost:8080/"
        },
        "id": "POopO2JX_9dg",
        "outputId": "b7b467ee-82a0-4c83-c0b0-7c8ffa0dc819"
      },
      "execution_count": null,
      "outputs": [
        {
          "output_type": "stream",
          "name": "stdout",
          "text": [
            "[Individual 304, Individual 306, Individual 307] \n",
            "\n"
          ]
        }
      ]
    },
    {
      "cell_type": "markdown",
      "source": [
        "☝ Q Node -1, First Individual:"
      ],
      "metadata": {
        "id": "nnoW6kosAZuv"
      }
    },
    {
      "cell_type": "code",
      "source": [
        "ind = Q.nodes[-1].all_individuals[0]\n",
        "\n",
        "print(ind)\n",
        "print(len(ind.data_records))\n",
        "print(ind.data_records)\n",
        "print(ind.data_records[0].arrival_date)"
      ],
      "metadata": {
        "colab": {
          "base_uri": "https://localhost:8080/"
        },
        "id": "08ZXFs7nABMf",
        "outputId": "c4d277ce-b97b-4fac-c023-e2bf7f19df35"
      },
      "execution_count": null,
      "outputs": [
        {
          "output_type": "stream",
          "name": "stdout",
          "text": [
            "Individual 2\n",
            "1\n",
            "[Record(id_number=2, customer_class='Customer', original_customer_class='Customer', node=1, arrival_date=7.93629994728086, waiting_time=0.0, service_start_date=7.93629994728086, service_time=2.944637168942629, service_end_date=10.880937116223489, time_blocked=0.0, exit_date=10.880937116223489, destination=-1, queue_size_at_arrival=1, queue_size_at_departure=1, server_id=2, record_type='service')]\n",
            "7.93629994728086\n"
          ]
        }
      ]
    },
    {
      "cell_type": "markdown",
      "source": [
        "# CIW Tutorial III: Collecting Results"
      ],
      "metadata": {
        "id": "YcuzBKaDKA2u"
      }
    },
    {
      "cell_type": "markdown",
      "source": [
        "☝ Q Get Records"
      ],
      "metadata": {
        "id": "Q6Njqx8cO43T"
      }
    },
    {
      "cell_type": "code",
      "source": [
        "recs = Q.get_all_records()\n",
        "\n",
        "# A list of service times\n",
        "servicetimes = [r.service_time for r in recs]\n",
        "\n",
        "# A list of waits\n",
        "waits = [r.waiting_time for r in recs]\n",
        "\n",
        "mean_service_time = sum(servicetimes) / len(servicetimes)\n",
        "print('Mean service time: ', mean_service_time)\n",
        "\n",
        "mean_waiting_time = sum(waits) / len(waits)\n",
        "print('Mean waiting time', mean_waiting_time)\n"
      ],
      "metadata": {
        "colab": {
          "base_uri": "https://localhost:8080/"
        },
        "id": "QhtIJXnFKFjn",
        "outputId": "5f1c1ec3-538e-4fff-a001-dd9a134b9782"
      },
      "execution_count": null,
      "outputs": [
        {
          "output_type": "stream",
          "name": "stdout",
          "text": [
            "Mean service time:  10.647482395960761\n",
            "Mean waiting time 4.230543089827278\n"
          ]
        }
      ]
    },
    {
      "cell_type": "markdown",
      "source": [
        "☝ Histogram of Waiting Time"
      ],
      "metadata": {
        "id": "lcpRak34Qzf3"
      }
    },
    {
      "cell_type": "code",
      "source": [
        "import matplotlib.pyplot as plt\n",
        "plt.hist(waits);\n",
        "plt.hist(servicetimes);"
      ],
      "metadata": {
        "colab": {
          "base_uri": "https://localhost:8080/",
          "height": 430
        },
        "id": "mHVBUk6BRGXH",
        "outputId": "5c88d2a8-f946-411b-c21f-c0d9cbd0ecc1"
      },
      "execution_count": null,
      "outputs": [
        {
          "output_type": "display_data",
          "data": {
            "text/plain": [
              "<Figure size 640x480 with 1 Axes>"
            ],
            "image/png": "[encoded data removed]"
          },
          "metadata": {}
        }
      ]
    },
    {
      "cell_type": "code",
      "source": [
        "x=Q.transitive_nodes[0].server_utilisation\n",
        "print(x)\n",
        "\n",
        "y=Q.nodes[1].server_utilisation\n",
        "print(y)\n"
      ],
      "metadata": {
        "colab": {
          "base_uri": "https://localhost:8080/"
        },
        "id": "2VC88Ks0SgKf",
        "outputId": "e9db9bc5-83f2-4f92-b566-2daea44dd997"
      },
      "execution_count": null,
      "outputs": [
        {
          "output_type": "stream",
          "name": "stdout",
          "text": [
            "0.7528800233231026\n",
            "0.7528800233231026\n"
          ]
        }
      ]
    },
    {
      "cell_type": "markdown",
      "source": [
        "# CIW Tutorial IV: Trials, Warm-up & Cool-down"
      ],
      "metadata": {
        "id": "JGzeSaPimPtW"
      }
    },
    {
      "cell_type": "markdown",
      "source": [
        "☝ Run 10 Simulations representing 10 days and use Warm-Up and Cool-Down conditions of 100 Minutes"
      ],
      "metadata": {
        "id": "e__EKphZtpjG"
      }
    },
    {
      "cell_type": "code",
      "source": [
        "average_waits = []\n",
        "for trial in range(10):\n",
        "    ciw.seed(trial)\n",
        "    Q = ciw.Simulation(N)\n",
        "    Q.simulate_until_max_time(1640)\n",
        "    recs = Q.get_all_records()\n",
        "    waits = [r.waiting_time for r in recs if r.arrival_date > 100 and r.arrival_date < 1540]\n",
        "    mean_wait = sum(waits) / len(waits)\n",
        "    average_waits.append(mean_wait)\n",
        "\n",
        "print(average_waits)\n",
        "expect_average_waits = sum(average_waits) / len(average_waits)\n",
        "print('Average waiting time in 10 days: ', expect_average_waits)"
      ],
      "metadata": {
        "colab": {
          "base_uri": "https://localhost:8080/"
        },
        "id": "eqdMqI9UtUZO",
        "outputId": "f36ad139-fc78-46b5-c6ab-28349c65d8bf"
      },
      "execution_count": null,
      "outputs": [
        {
          "output_type": "stream",
          "name": "stdout",
          "text": [
            "[3.9195067790072535, 4.341639113115432, 4.617798011606141, 5.335376255690059, 5.062248080008144, 2.902745448034656, 4.932099220209271, 17.95093128538666, 4.061367618078301, 3.141264357163561]\n",
            "Average waiting time in 10 days:  5.626497616829948\n"
          ]
        }
      ]
    },
    {
      "cell_type": "markdown",
      "source": [
        " ☝ Adding One Extra Server"
      ],
      "metadata": {
        "id": "KIg-hjI2vBrW"
      }
    },
    {
      "cell_type": "code",
      "source": [
        "N = ciw.create_network(\n",
        "    arrival_distributions=[ciw.dists.Exponential(rate=0.2)],\n",
        "    service_distributions=[ciw.dists.Exponential(rate=0.1)],\n",
        "    number_of_servers=[4]\n",
        ")\n",
        "\n",
        "average_waits = []\n",
        "for trial in range(10):\n",
        "    ciw.seed(trial)\n",
        "    Q = ciw.Simulation(N)\n",
        "    Q.simulate_until_max_time(1640)\n",
        "    recs = Q.get_all_records()\n",
        "    waits = [r.waiting_time for r in recs if r.arrival_date > 100 and r.arrival_date < 1540]\n",
        "    mean_wait = sum(waits) / len(waits)\n",
        "    average_waits.append(mean_wait)\n",
        "\n",
        "expect_average_waits_extra_server = sum(average_waits) / len(average_waits)\n",
        "\n",
        "print('Average waiting time in 10 days with extra server: ', expect_average_waits_extra_server)"
      ],
      "metadata": {
        "colab": {
          "base_uri": "https://localhost:8080/"
        },
        "id": "40YyrsowvSFW",
        "outputId": "a9616eec-4644-4498-f5e5-4236b2fe3b9d"
      },
      "execution_count": null,
      "outputs": [
        {
          "output_type": "stream",
          "name": "stdout",
          "text": [
            "Average waiting time in 10 days with extra server:  0.7986862233165134\n"
          ]
        }
      ]
    },
    {
      "cell_type": "markdown",
      "source": [
        "# CIW Tutorial V: A Network of Queues¶\n",
        "\n",
        "In this system there are three nodes: Cold food counter (Node 1), Hot food counter (Node 2), and the till (Node 3):\n",
        "\n",
        "* Customers wanting hot food only arrive at a rate of 12 per hour.\n",
        "* Customers wanting cold food arrive at a rate of 18 per hour.\n",
        "* 30% of all customer who buy cold food also want to buy hot food.\n",
        "* On average it takes 1 minute to be served cold food, 2 and a half minutes to be served hot food, and 2 minutes to pay.\n",
        "* There is 1 server at the cold food counter, 2 servers at the hot food counter, and 2 servers at the till.\n",
        "\n",
        "Find the average number of customers that pass through the system in a three hour lunchtime."
      ],
      "metadata": {
        "id": "gri391GZq4J7"
      }
    },
    {
      "cell_type": "markdown",
      "source": [
        "☝ Creation of Network and Simulation Object:"
      ],
      "metadata": {
        "id": "qAt233L_5Zgj"
      }
    },
    {
      "cell_type": "code",
      "source": [
        "N = ciw.create_network(\n",
        "    arrival_distributions=[ciw.dists.Exponential(rate=0.3),\n",
        "                           ciw.dists.Exponential(rate=0.2),\n",
        "                           None],\n",
        "    service_distributions=[ciw.dists.Exponential(rate=1.0),\n",
        "                           ciw.dists.Exponential(rate=0.4),\n",
        "                           ciw.dists.Exponential(rate=0.5)],\n",
        "    routing=[[0.0, 0.3, 0.7],\n",
        "             [0.0, 0.0, 1.0],\n",
        "             [0.0, 0.0, 0.0]],\n",
        "    number_of_servers=[1, 2, 2]\n",
        ")"
      ],
      "metadata": {
        "id": "kbVpRAaYtNck"
      },
      "execution_count": null,
      "outputs": []
    },
    {
      "cell_type": "markdown",
      "source": [
        "☝ Run 100 Simulations representing three hours lunchtime periods and use Cool-Down conditions of 20 Minutes"
      ],
      "metadata": {
        "id": "E39p1fCZEXUT"
      }
    },
    {
      "cell_type": "code",
      "source": [
        "completed_custs = []\n",
        "for trial in range(100):\n",
        "    ciw.seed(trial)\n",
        "    Q = ciw.Simulation(N)\n",
        "    Q.simulate_until_max_time(200)\n",
        "    recs = Q.get_all_records()\n",
        "    num_completed = len([r for r in recs if r.node==3 and r.arrival_date < 180])\n",
        "    completed_custs.append(num_completed)\n",
        "\n",
        "expect_average_customers_luchtime = sum(completed_custs) / len(completed_custs)\n",
        "\n",
        "print('Average Customers Luchtime: ', expect_average_customers_luchtime)"
      ],
      "metadata": {
        "colab": {
          "base_uri": "https://localhost:8080/"
        },
        "id": "FLePqrBlGH2K",
        "outputId": "062b2d16-5897-4554-ccf3-300daf20d015"
      },
      "execution_count": null,
      "outputs": [
        {
          "output_type": "stream",
          "name": "stdout",
          "text": [
            "Average Customers Luchtime:  89.13\n"
          ]
        }
      ]
    }
  ]
}