{
  "cells": [
    {
      "cell_type": "markdown",
      "metadata": {
        "id": "view-in-github",
        "colab_type": "text"
      },
      "source": [
        "<a href=\"https://colab.research.google.com/github/ApoloXO/OR/blob/main/Queueing/discrete_event_simulation.ipynb\" target=\"_parent\"><img src=\"https://colab.research.google.com/assets/colab-badge.svg\" alt=\"Open In Colab\"/></a>"
      ]
    },
    {
      "cell_type": "markdown",
      "metadata": {
        "id": "4ZfkbF2Dqm4X"
      },
      "source": [
        "# Queueing Theory Intro\n",
        "## Discrete Event Simulation\n",
        "Carlos Alexander Grajales Correa \\\\\n",
        "Professor Universidad de Antioquia, Colombia \\\\\n",
        "alexander.grajales@udea.edu.co \\\\\n",
        "**Reference:**\n",
        "*This notebook contains code examples referring to the book*\n",
        "\n",
        "\"Applied Mathematics with Open-Source Software: Operational Research Problems\n",
        "with Python and R\". Chapter: Discrete Event Simulation.   Vincent Knight and Geraint Palmer.  CRC Press Taylor and Francis Group, 2022.*\n",
        "\n",
        "\n",
        "\\\\\n",
        "\n",
        "\n",
        "☝ Before start\n",
        "\n",
        "At Google Colab, for this intro, you will first need to install\n",
        "\n",
        "* ciw\n",
        "___"
      ]
    },
    {
      "cell_type": "code",
      "source": [
        "!pip install ciw\n",
        "import ciw"
      ],
      "metadata": {
        "id": "0zOH12zc_vwq"
      },
      "execution_count": null,
      "outputs": []
    },
    {
      "cell_type": "markdown",
      "source": [
        "# Bicycle Repair Shop Problem\n",
        "\n",
        "A bicycle repair shop would like to reconfigure in order to guarantee that all bicycles processed take a maximum of 30 minutes. Their current set-up is as follows:\n",
        "\n",
        "* Bicycles arrive randomly at the shop at a rate of 15 per hour;\n",
        "* they wait in line to be seen at an inspection counter, staffed by one member of staff who can inspect one bicycle at a time. On average an inspection takes around 3 minutes;\n",
        "* around 20% of bicycles do not need repair after inspection, and they are then ready for collection;\n",
        "* around 80% of bicycles go on to be repaired after inspection. These then wait in line outside the repair workshop, which is staffed by two members of staff who can each repair one bicycle at a time. On average a repair takes around 6 minutes;\n",
        "* after repair the bicycles are ready for collection.\n",
        "\n",
        "An assumption of infinite capacity at the bicycle repair shop for waiting bicycles is made.The shop will hire an extra member of staff in order to meet their target of a maximum time in the system of 30 minutes. They would like to know if they should work on the inspection counter or in the repair workshop.\n",
        "\n",
        "___"
      ],
      "metadata": {
        "id": "Fm2zb2BaAE5h"
      }
    },
    {
      "cell_type": "markdown",
      "metadata": {
        "id": "d-qLkMm3qm4a"
      },
      "source": [
        "☝ First we define a function that gives a Network object, containing the structure of the repair shop."
      ]
    },
    {
      "cell_type": "code",
      "execution_count": 2,
      "metadata": {
        "id": "g8ZkU6FVqm4a"
      },
      "outputs": [],
      "source": [
        "def build_network_object(\n",
        "    num_inspectors=1,\n",
        "    num_repairers=2,\n",
        "):\n",
        "    \"\"\"Returns a Network object that defines the repair shop.\n",
        "\n",
        "    Args:\n",
        "        num_inspectors: a positive integer (default: 1)\n",
        "        num_repairers: a positive integer (default: 2)\n",
        "\n",
        "    Returns:\n",
        "        a Ciw network object\n",
        "    \"\"\"\n",
        "    arrival_rate = 15\n",
        "    inspection_rate = 20\n",
        "    repair_rate = 10\n",
        "    prob_need_repair = 0.8\n",
        "    N = ciw.create_network(\n",
        "        arrival_distributions=[\n",
        "            ciw.dists.Exponential(arrival_rate),\n",
        "            None,\n",
        "            #ciw.dists.NoArrivals(),\n",
        "        ],\n",
        "        service_distributions=[\n",
        "            ciw.dists.Exponential(inspection_rate),\n",
        "            ciw.dists.Exponential(repair_rate),\n",
        "        ],\n",
        "        number_of_servers=[num_inspectors, num_repairers],\n",
        "        routing=[[0.0, prob_need_repair], [0.0, 0.0]],\n",
        "    )\n",
        "    return N"
      ]
    },
    {
      "cell_type": "markdown",
      "metadata": {
        "id": "gBz6eJb-qm4b"
      },
      "source": [
        "☝ We can see information such as number of nodes in the network:"
      ]
    },
    {
      "cell_type": "code",
      "execution_count": null,
      "metadata": {
        "id": "DYOASuJFqm4b"
      },
      "outputs": [],
      "source": [
        "N = build_network_object()\n",
        "print(N.number_of_nodes)"
      ]
    },
    {
      "cell_type": "markdown",
      "metadata": {
        "id": "AY0kexxdqm4c"
      },
      "source": [
        "☝ Then we define a function that runs one trial of the simulation."
      ]
    },
    {
      "cell_type": "code",
      "execution_count": 4,
      "metadata": {
        "id": "XYWGFdn4qm4c"
      },
      "outputs": [],
      "source": [
        "def run_simulation(network, seed=0):\n",
        "    \"\"\"Builds a simulation object and runs it for 8 time units.\n",
        "\n",
        "    Args:\n",
        "        network: a Ciw network object\n",
        "        seed: a float (default: 0)\n",
        "\n",
        "    Returns:\n",
        "        a Ciw simulation object after a run of the simulation\n",
        "    \"\"\"\n",
        "    max_time = 8\n",
        "    ciw.seed(seed)\n",
        "    Q = ciw.Simulation(network)\n",
        "    Q.simulate_until_max_time(max_time)\n",
        "    return Q"
      ]
    },
    {
      "cell_type": "markdown",
      "metadata": {
        "id": "ixSGhjbIqm4c"
      },
      "source": [
        "☝ From one trial we can obtain the proportion of bicycles taking over half an hour:"
      ]
    },
    {
      "cell_type": "code",
      "execution_count": 5,
      "metadata": {
        "id": "oDCP_XTiqm4c"
      },
      "outputs": [],
      "source": [
        "import pandas as pd\n",
        "\n",
        "\n",
        "def get_proportion(Q):\n",
        "    \"\"\"Returns the proportion of bicycles spending over a given\n",
        "    limit at the repair shop.\n",
        "\n",
        "    Args:\n",
        "        Q: a Ciw simulation object after a run of the\n",
        "           simulation\n",
        "\n",
        "    Returns:\n",
        "        a real\n",
        "    \"\"\"\n",
        "    limit = 0.5\n",
        "    inds = Q.nodes[-1].all_individuals\n",
        "    recs = pd.DataFrame(\n",
        "        dr for ind in inds for dr in ind.data_records\n",
        "    )\n",
        "    recs[\"total_time\"] = recs[\"exit_date\"] - recs[\"arrival_date\"]\n",
        "    total_times = recs.groupby(\"id_number\")[\"total_time\"].sum()\n",
        "    return (total_times > limit).mean()"
      ]
    },
    {
      "cell_type": "markdown",
      "metadata": {
        "id": "ZZ_veCyVqm4c"
      },
      "source": [
        "☝ Putting all this together for one trial"
      ]
    },
    {
      "cell_type": "code",
      "execution_count": null,
      "metadata": {
        "id": "tfKh7flZqm4c"
      },
      "outputs": [],
      "source": [
        "import pandas as pd\n",
        "import matplotlib.pyplot as plt\n",
        "\n",
        "N = build_network_object()\n",
        "Q = run_simulation(N)\n",
        "p = get_proportion(Q)\n",
        "\n",
        "recs = Q.get_all_records()\n",
        "recs_pd = pd.DataFrame(recs)\n",
        "recs_pd.to_excel(\"recsExcel.xlsx\")\n",
        "\n",
        "waits = [r.waiting_time for r in recs]\n",
        "waits\n",
        "plt.hist(waits);"
      ]
    },
    {
      "cell_type": "markdown",
      "metadata": {
        "id": "4LSwZ9v-qm4d"
      },
      "source": [
        "☝ A function to find the average proportion over a number of trials"
      ]
    },
    {
      "cell_type": "code",
      "execution_count": 21,
      "metadata": {
        "id": "VWmuEwEZqm4d"
      },
      "outputs": [],
      "source": [
        "def get_average_proportion(num_inspectors=1, num_repairers=2):\n",
        "    \"\"\"Returns the average proportion of bicycles spending over a\n",
        "    given limit at the repair shop.\n",
        "\n",
        "    Args:\n",
        "        num_inspectors: a positive integer (default: 1)\n",
        "        num_repairers: a positive integer (default: 2)\n",
        "\n",
        "    Returns:\n",
        "        a real\n",
        "    \"\"\"\n",
        "    num_trials = 100\n",
        "    N = build_network_object(\n",
        "        num_inspectors=num_inspectors,\n",
        "        num_repairers=num_repairers,\n",
        "    )\n",
        "    proportions = []\n",
        "    for trial in range(num_trials):\n",
        "        Q = run_simulation(N, seed=trial)\n",
        "        proportion = get_proportion(Q=Q)\n",
        "        proportions.append(proportion)\n",
        "    return sum(proportions) / num_trials\n"
      ]
    },
    {
      "cell_type": "markdown",
      "metadata": {
        "id": "g1PXRF1Fqm4d"
      },
      "source": [
        "☝ The proportion with current staff:"
      ]
    },
    {
      "cell_type": "code",
      "execution_count": null,
      "metadata": {
        "id": "t2zKevczqm4d"
      },
      "outputs": [],
      "source": [
        "p = get_average_proportion(num_inspectors=1, num_repairers=2)\n",
        "print(round(p, 6))"
      ]
    },
    {
      "cell_type": "markdown",
      "metadata": {
        "id": "kZ98-Dkgqm4d"
      },
      "source": [
        "☝ The proportion with an extra inspector:"
      ]
    },
    {
      "cell_type": "code",
      "execution_count": null,
      "metadata": {
        "id": "ZvFib6PRqm4d"
      },
      "outputs": [],
      "source": [
        "p = get_average_proportion(num_inspectors=2, num_repairers=2)\n",
        "print(round(p, 6))"
      ]
    },
    {
      "cell_type": "markdown",
      "metadata": {
        "id": "wuXDr_ymqm4e"
      },
      "source": [
        "☝ The proportion with an extra repairer:"
      ]
    },
    {
      "cell_type": "code",
      "execution_count": null,
      "metadata": {
        "id": "1lhhoGXIqm4e"
      },
      "outputs": [],
      "source": [
        "p = get_average_proportion(num_inspectors=1, num_repairers=3)\n",
        "print(round(p, 6))"
      ]
    },
    {
      "cell_type": "markdown",
      "source": [
        "☝ The proportion with an extra inspector and extra repairer:"
      ],
      "metadata": {
        "id": "N_gqOvBU_g8_"
      }
    },
    {
      "cell_type": "code",
      "source": [
        "p = get_average_proportion(num_inspectors=2, num_repairers=3)\n",
        "print(round(p, 6))"
      ],
      "metadata": {
        "id": "dQDGIjMO_xbo"
      },
      "execution_count": null,
      "outputs": []
    }
  ],
  "metadata": {
    "kernelspec": {
      "display_name": "Python 3",
      "language": "python",
      "name": "python3"
    },
    "language_info": {
      "codemirror_mode": {
        "name": "ipython",
        "version": 3
      },
      "file_extension": ".py",
      "mimetype": "text/x-python",
      "name": "python",
      "nbconvert_exporter": "python",
      "pygments_lexer": "ipython3",
      "version": "3.7.3"
    },
    "colab": {
      "provenance": [],
      "include_colab_link": true
    }
  },
  "nbformat": 4,
  "nbformat_minor": 0
}