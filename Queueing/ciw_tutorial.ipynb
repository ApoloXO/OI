{
  "nbformat": 4,
  "nbformat_minor": 0,
  "metadata": {
    "colab": {
      "provenance": [],
      "authorship_tag": "ABX9TyPeJhLfUSQIvPOADZ2aHOqt",
      "include_colab_link": true
    },
    "kernelspec": {
      "name": "python3",
      "display_name": "Python 3"
    },
    "language_info": {
      "name": "python"
    }
  },
  "cells": [
    {
      "cell_type": "markdown",
      "metadata": {
        "id": "view-in-github",
        "colab_type": "text"
      },
      "source": [
        "<a href=\"https://colab.research.google.com/github/ApoloXO/OR/blob/main/ciw_tutorial.ipynb\" target=\"_parent\"><img src=\"https://colab.research.google.com/assets/colab-badge.svg\" alt=\"Open In Colab\"/></a>"
      ]
    },
    {
      "cell_type": "markdown",
      "source": [
        "# Python CIW Tutorial\n",
        "Carlos Alexander Grajales Correa \\\\\n",
        "Professor Universidad de Antioquia, Colombia \\\\\n",
        "alexander.grajales@udea.edu.co \\\\\n",
        "**Reference:** *https://ciw.readthedocs.io/en/latest/#*\n",
        "\n",
        "\\\\\n",
        "\n",
        "\n",
        "☝ Before start\n",
        "\n",
        "At Google Colab, for this course, you will first need to install\n",
        "\n",
        "* ciw\n",
        "___"
      ],
      "metadata": {
        "id": "c_LLcBzCkUIh"
      }
    },
    {
      "cell_type": "code",
      "source": [
        "!pip install ciw\n",
        "import ciw"
      ],
      "metadata": {
        "id": "W5pkNIAMH1Kd"
      },
      "execution_count": null,
      "outputs": []
    },
    {
      "cell_type": "markdown",
      "source": [
        "# CIW Tutorial I: Defining & Running a Simulation\n",
        "\n",
        "Assume you are a bank manager and would like to know how long customers wait in your bank. Customers arrive randomly, roughly 12 per hour, regardless of the time of day. Service time is random, but on average lasts roughly 10 minutes. The bank is open 24 hours a day, 7 days a week, and has three servers who are always on duty. If all servers are busy, newly arriving customers form a queue and wait for service. On average how long do customers wait?\n",
        "___"
      ],
      "metadata": {
        "id": "oc7Khq2z2gnS"
      }
    },
    {
      "cell_type": "markdown",
      "source": [
        "☝ Creation of Network and Simulation Object:"
      ],
      "metadata": {
        "id": "Z5BQ6zpOUGcX"
      }
    },
    {
      "cell_type": "code",
      "execution_count": null,
      "metadata": {
        "id": "jGlG0QK72fSW"
      },
      "outputs": [],
      "source": [
        "N = ciw.create_network(\n",
        "    arrival_distributions=[ciw.dists.Exponential(rate=0.2)], # la linea me indica: distr de llegada\n",
        "    service_distributions=[ciw.dists.Exponential(rate=0.1)],\n",
        "    number_of_servers=[3]\n",
        ")\n",
        "ciw.seed(1)\n",
        "Q = ciw.Simulation(N)\n",
        "Q.simulate_until_max_time(1440)\n"
      ]
    },
    {
      "cell_type": "markdown",
      "source": [
        "# Ciw Tutorial II: Exploring the Simulation Object"
      ],
      "metadata": {
        "id": "buxQ-OZi4tJI"
      }
    },
    {
      "cell_type": "markdown",
      "source": [
        "☝ Q Nodes:"
      ],
      "metadata": {
        "id": "PjYODpQo_nsv"
      }
    },
    {
      "cell_type": "code",
      "source": [
        "print(Q.nodes)\n",
        "print(Q.nodes[0])\n",
        "print(Q.nodes[1])\n",
        "print(Q.nodes[-1])"
      ],
      "metadata": {
        "id": "fU6BDz863RQo"
      },
      "execution_count": null,
      "outputs": []
    },
    {
      "cell_type": "markdown",
      "source": [
        "☝ Q Node 0:"
      ],
      "metadata": {
        "id": "18pnTA8MdI6H"
      }
    },
    {
      "cell_type": "code",
      "source": [
        "Q.nodes[0].number_of_individuals"
      ],
      "metadata": {
        "id": "PbbEGZF7dNJ3"
      },
      "execution_count": null,
      "outputs": []
    },
    {
      "cell_type": "markdown",
      "source": [
        "☝ Q Node -1:"
      ],
      "metadata": {
        "id": "D7rDLlTpAIAe"
      }
    },
    {
      "cell_type": "code",
      "source": [
        "print(len(Q.nodes[-1].all_individuals))\n",
        "print(Q.nodes[-1].all_individuals[0])\n",
        "print(Q.nodes[-1].all_individuals[-1])\n",
        "# Q.nodes[-1].all_individuals"
      ],
      "metadata": {
        "id": "02gQ1qOj_inQ"
      },
      "execution_count": null,
      "outputs": []
    },
    {
      "cell_type": "markdown",
      "source": [
        "☝ Q Node 1:"
      ],
      "metadata": {
        "id": "0dtLDtEHATIA"
      }
    },
    {
      "cell_type": "code",
      "source": [
        "print(Q.nodes[1].all_individuals, '\\n')"
      ],
      "metadata": {
        "id": "POopO2JX_9dg"
      },
      "execution_count": null,
      "outputs": []
    },
    {
      "cell_type": "markdown",
      "source": [
        "☝ Q Node -1, First Individual:"
      ],
      "metadata": {
        "id": "nnoW6kosAZuv"
      }
    },
    {
      "cell_type": "code",
      "source": [
        "ind = Q.nodes[-1].all_individuals[0]\n",
        "\n",
        "print(ind)\n",
        "print(len(ind.data_records))\n",
        "print(ind.data_records)\n",
        "print(ind.data_records[0].arrival_date)"
      ],
      "metadata": {
        "id": "08ZXFs7nABMf"
      },
      "execution_count": null,
      "outputs": []
    },
    {
      "cell_type": "markdown",
      "source": [
        "# CIW Tutorial III: Collecting Results"
      ],
      "metadata": {
        "id": "YcuzBKaDKA2u"
      }
    },
    {
      "cell_type": "markdown",
      "source": [
        "☝ Q Get Records"
      ],
      "metadata": {
        "id": "Q6Njqx8cO43T"
      }
    },
    {
      "cell_type": "code",
      "source": [
        "recs = Q.get_all_records()\n",
        "\n",
        "# A list of service times\n",
        "servicetimes = [r.service_time for r in recs]\n",
        "\n",
        "# A list of waits\n",
        "waits = [r.waiting_time for r in recs]\n",
        "\n",
        "mean_service_time = sum(servicetimes) / len(servicetimes)\n",
        "print('Mean service time: ', mean_service_time)\n",
        "\n",
        "mean_waiting_time = sum(waits) / len(waits)\n",
        "print('Mean waiting time', mean_waiting_time)\n"
      ],
      "metadata": {
        "id": "QhtIJXnFKFjn"
      },
      "execution_count": null,
      "outputs": []
    },
    {
      "cell_type": "markdown",
      "source": [
        "☝ Histogram of Waiting Time"
      ],
      "metadata": {
        "id": "lcpRak34Qzf3"
      }
    },
    {
      "cell_type": "code",
      "source": [
        "import matplotlib.pyplot as plt\n",
        "plt.hist(waits);\n",
        "plt.hist(servicetimes);"
      ],
      "metadata": {
        "id": "mHVBUk6BRGXH"
      },
      "execution_count": null,
      "outputs": []
    },
    {
      "cell_type": "code",
      "source": [
        "x=Q.transitive_nodes[0].server_utilisation\n",
        "print(x)\n",
        "\n",
        "y=Q.nodes[1].server_utilisation\n",
        "print(y)\n"
      ],
      "metadata": {
        "id": "2VC88Ks0SgKf"
      },
      "execution_count": null,
      "outputs": []
    },
    {
      "cell_type": "markdown",
      "source": [
        "# CIW Tutorial IV: Trials, Warm-up & Cool-down"
      ],
      "metadata": {
        "id": "JGzeSaPimPtW"
      }
    },
    {
      "cell_type": "markdown",
      "source": [
        "☝ Run 10 Simulations representing 10 days and use Warm-Up and Cool-Down conditions of 100 Minutes"
      ],
      "metadata": {
        "id": "e__EKphZtpjG"
      }
    },
    {
      "cell_type": "code",
      "source": [
        "average_waits = []\n",
        "for trial in range(10):\n",
        "    ciw.seed(trial)\n",
        "    Q = ciw.Simulation(N)\n",
        "    Q.simulate_until_max_time(1640)\n",
        "    recs = Q.get_all_records()\n",
        "    waits = [r.waiting_time for r in recs if r.arrival_date > 100 and r.arrival_date < 1540]\n",
        "    mean_wait = sum(waits) / len(waits)\n",
        "    average_waits.append(mean_wait)\n",
        "\n",
        "print(average_waits)\n",
        "expect_average_waits = sum(average_waits) / len(average_waits)\n",
        "print('Average waiting time in 10 days: ', expect_average_waits)"
      ],
      "metadata": {
        "id": "eqdMqI9UtUZO"
      },
      "execution_count": null,
      "outputs": []
    },
    {
      "cell_type": "markdown",
      "source": [
        " ☝ Adding One Extra Server"
      ],
      "metadata": {
        "id": "KIg-hjI2vBrW"
      }
    },
    {
      "cell_type": "code",
      "source": [
        "N = ciw.create_network(\n",
        "    arrival_distributions=[ciw.dists.Exponential(rate=0.2)],\n",
        "    service_distributions=[ciw.dists.Exponential(rate=0.1)],\n",
        "    number_of_servers=[4]\n",
        ")\n",
        "\n",
        "average_waits = []\n",
        "for trial in range(10):\n",
        "    ciw.seed(trial)\n",
        "    Q = ciw.Simulation(N)\n",
        "    Q.simulate_until_max_time(1640)\n",
        "    recs = Q.get_all_records()\n",
        "    waits = [r.waiting_time for r in recs if r.arrival_date > 100 and r.arrival_date < 1540]\n",
        "    mean_wait = sum(waits) / len(waits)\n",
        "    average_waits.append(mean_wait)\n",
        "\n",
        "expect_average_waits_extra_server = sum(average_waits) / len(average_waits)\n",
        "\n",
        "print('Average waiting time in 10 days with extra server: ', expect_average_waits_extra_server)"
      ],
      "metadata": {
        "id": "40YyrsowvSFW"
      },
      "execution_count": null,
      "outputs": []
    },
    {
      "cell_type": "markdown",
      "source": [
        "# CIW Tutorial V: A Network of Queues¶\n",
        "\n",
        "In this system there are three nodes: Cold food counter (Node 1), Hot food counter (Node 2), and the till (Node 3):\n",
        "\n",
        "* Customers wanting hot food only arrive at a rate of 12 per hour.\n",
        "* Customers wanting cold food arrive at a rate of 18 per hour.\n",
        "* 30% of all customer who buy cold food also want to buy hot food.\n",
        "* On average it takes 1 minute to be served cold food, 2 and a half minutes to be served hot food, and 2 minutes to pay.\n",
        "* There is 1 server at the cold food counter, 2 servers at the hot food counter, and 2 servers at the till.\n",
        "\n",
        "Find the average number of customers that pass through the system in a three hour lunchtime."
      ],
      "metadata": {
        "id": "gri391GZq4J7"
      }
    },
    {
      "cell_type": "markdown",
      "source": [
        "☝ Creation of Network and Simulation Object:"
      ],
      "metadata": {
        "id": "qAt233L_5Zgj"
      }
    },
    {
      "cell_type": "code",
      "source": [
        "N = ciw.create_network(\n",
        "    arrival_distributions=[ciw.dists.Exponential(rate=0.3),\n",
        "                           ciw.dists.Exponential(rate=0.2),\n",
        "                           None],\n",
        "    service_distributions=[ciw.dists.Exponential(rate=1.0),\n",
        "                           ciw.dists.Exponential(rate=0.4),\n",
        "                           ciw.dists.Exponential(rate=0.5)],\n",
        "    routing=[[0.0, 0.3, 0.7],\n",
        "             [0.0, 0.0, 1.0],\n",
        "             [0.0, 0.0, 0.0]],\n",
        "    number_of_servers=[1, 2, 2]\n",
        ")"
      ],
      "metadata": {
        "id": "kbVpRAaYtNck"
      },
      "execution_count": null,
      "outputs": []
    },
    {
      "cell_type": "markdown",
      "source": [
        "☝ Run 100 Simulations representing three hours lunchtime periods and use Cool-Down conditions of 20 Minutes"
      ],
      "metadata": {
        "id": "E39p1fCZEXUT"
      }
    },
    {
      "cell_type": "code",
      "source": [
        "completed_custs = []\n",
        "for trial in range(100):\n",
        "    ciw.seed(trial)\n",
        "    Q = ciw.Simulation(N)\n",
        "    Q.simulate_until_max_time(200)\n",
        "    recs = Q.get_all_records()\n",
        "    num_completed = len([r for r in recs if r.node==3 and r.arrival_date < 180])\n",
        "    completed_custs.append(num_completed)\n",
        "\n",
        "expect_average_customers_luchtime = sum(completed_custs) / len(completed_custs)\n",
        "\n",
        "print('Average Customers Luchtime: ', expect_average_customers_luchtime)"
      ],
      "metadata": {
        "id": "FLePqrBlGH2K"
      },
      "execution_count": null,
      "outputs": []
    }
  ]
}
